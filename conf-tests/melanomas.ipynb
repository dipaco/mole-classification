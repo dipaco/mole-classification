{
 "cells": [
  {
   "cell_type": "markdown",
   "metadata": {},
   "source": [
    "# UTILIDADES DE LECTURA\n",
    "\n",
    "* El código lo hice asumiendo que la carpeta del PH2 está en la misma carpeta que el Notebook.\n",
    "* Algunas de estas funciones las saqué directamente de los paquetes debido a problemas para importar en mi versión de Python."
   ]
  },
  {
   "cell_type": "code",
   "execution_count": 1,
   "metadata": {},
   "outputs": [],
   "source": [
    "from glob import glob\n",
    "from abc import ABCMeta, abstractmethod\n",
    "from os.path import join, splitext, basename, abspath\n",
    "from os import listdir\n",
    "from skimage.io import imread\n",
    "import pandas as pd\n",
    "import warnings\n",
    "from matplotlib import pyplot as plt\n",
    "import numpy as np\n",
    "from scipy.stats import kurtosis\n",
    "from scipy.stats import skew\n",
    "import math\n",
    "from skimage import morphology\n",
    "from skimage.measure import label, regionprops\n",
    "import cv2\n",
    "from skimage import measure\n",
    "from scipy.ndimage import rotate\n",
    "import math \n",
    "from similarity_metrics import hausdorff\n",
    "from similarity_metrics import dubuisson_jain_dissimilarity\n",
    "\n",
    "%matplotlib inline\n",
    "\n",
    "warnings.filterwarnings(\"ignore\")\n",
    "\n",
    "class MissingAttributeException(Exception):\n",
    "    def __init__(self, attribute):\n",
    "        super(MissingAttributeException, self).__init__(\n",
    "            'The <{}> attribute is not contained in the dataset'.format(attribute)\n",
    "        )\n",
    "\n",
    "\n",
    "class BaseDataset:\n",
    "    __metaclass__ = ABCMeta\n",
    "\n",
    "    def __init__(self, dataset_path):\n",
    "        self.__dataset_path = abspath(dataset_path)\n",
    "        self.__image_list = self.load_dataset(self.__dataset_path)\n",
    "        self.__sample = self.__image_list\n",
    "\n",
    "    @abstractmethod\n",
    "    def load_dataset(self, dataset_path):\n",
    "        '''\n",
    "        It must return a vector of dictionary in the followed way (keys with * are mandatory):\n",
    "        image_data = [\n",
    "                        {\n",
    "                            'image_filename': <* image filename>,\n",
    "                            'imageName': <* image name>,\n",
    "                            'ground_truth_filename': <ground_truth_filename>,\n",
    "                            'class': <class number the image belong to>,\n",
    "                            'labels': <vector of string labels associates with the image>\n",
    "                        },\n",
    "                        {...}\n",
    "                    ]\n",
    "        :param dataset_path: base path for the dataset\n",
    "        :return: a list of dictionaries containing the dataset information. One entry per image in the dataset\n",
    "        '''\n",
    "        return None\n",
    "\n",
    "    @abstractmethod\n",
    "    def read_data(self, filename):\n",
    "        return None\n",
    "\n",
    "    @abstractmethod\n",
    "    def has_class(self):\n",
    "        return False\n",
    "\n",
    "    @abstractmethod\n",
    "    def has_labels(self):\n",
    "        return False\n",
    "\n",
    "    @abstractmethod\n",
    "    def has_ground_truth(self):\n",
    "        return False\n",
    "\n",
    "    @property\n",
    "    def image_names(self):\n",
    "        return [i['imageName'] for i in self.__sample]\n",
    "\n",
    "    @property\n",
    "    def num_images(self):\n",
    "        return len(self.__sample)\n",
    "\n",
    "    def reset_sample(self):\n",
    "        self.__sample = self.__image_list\n",
    "\n",
    "    def set_sample(self, **kwargs):\n",
    "        if 'percentage' in kwargs:\n",
    "            p = kwargs['percentage']\n",
    "            N = len(self.__image_list)\n",
    "            rn = np.random.rand(N)\n",
    "            j = np.argsort(rn)[0:int(np.floor(p * N))]\n",
    "            self.__sample = [self.__image_list[i] for i in j]\n",
    "        elif 'image_names' in kwargs:\n",
    "            i_names = kwargs['image_names']\n",
    "            self.__sample = [data for data in self.__image_list if data['imageName'] in i_names]\n",
    "        elif 'image_indices' in kwargs:\n",
    "            image_idxs = kwargs['image_indices']\n",
    "            self.__sample = [self.__image_list[i] for i in image_idxs]\n",
    "        else:\n",
    "            print('No samples was selected. All images will be used.')\n",
    "            self.reset_sample()\n",
    "\n",
    "    def exclude_from_sample(self, **kwargs):\n",
    "        if 'image_names' in kwargs:\n",
    "            i_names = kwargs['image_names']\n",
    "            self.__sample = [data for data in self.__sample if data['imageName'] not in i_names]\n",
    "        elif 'image_indices' in kwargs:\n",
    "            image_idxs = kwargs['image_indices']\n",
    "            self.__sample = [self.__sample[i] for i in range(len(self.__sample)) if i not in image_idxs]\n",
    "        else:\n",
    "            print('No elements were excluded from the sample.')\n",
    "\n",
    "    def get_image_data(self, idx_image):\n",
    "        current_image = self.__sample[idx_image]\n",
    "\n",
    "        if 'loaded' not in current_image or not current_image['loaded']:\n",
    "            current_image['data'] = self.read_data(current_image['image_filename'])\n",
    "            current_image['loaded'] = True\n",
    "\n",
    "        return current_image['data']\n",
    "\n",
    "    def get_ground_truth_data(self, idx_image):\n",
    "        current_image = self.__sample[idx_image]\n",
    "\n",
    "        if self.has_ground_truth():\n",
    "            if 'ground_truth_loaded' not in current_image or not current_image['ground_truth_loaded']:\n",
    "                current_image['ground_truth_data'] = self.read_data(current_image['ground_truth_filename'])\n",
    "                current_image['ground_truth_loaded'] = True\n",
    "\n",
    "            return current_image['ground_truth_data']\n",
    "        else:\n",
    "            raise MissingAttributeException('ground_truth_data')\n",
    "\n",
    "    def get_image_class(self, idx_image):\n",
    "        current_image = self.__sample[idx_image]\n",
    "\n",
    "        if self.has_class():\n",
    "            return current_image['class']\n",
    "        else:\n",
    "            raise MissingAttributeException('class')\n",
    "\n",
    "    def get_image_labels(self, idx_image):\n",
    "        current_image = self.__sample[idx_image]\n",
    "\n",
    "        if self.has_labels():\n",
    "            return current_image['labels']\n",
    "        else:\n",
    "            raise MissingAttributeException('labels')\n",
    "\n",
    "\n",
    "class MPEG7Dataset(BaseDataset):\n",
    "    \"\"\"\n",
    "    Concrete implementation of the MPEG-7 Dataset\n",
    "    \"\"\"\n",
    "\n",
    "    def __init__(self, basepath):\n",
    "        self.image_list = [{\n",
    "                               'image_filename': fn,\n",
    "                               'imageName': splitext(basename(fn))[0],\n",
    "                               'ground_truth_filename': None,\n",
    "                               'class': None,  # TODO,\n",
    "                               'labels': None\n",
    "                           } for fn in glob(join(basepath, 'MPEG7/original/*.gif'))]\n",
    "\n",
    "class PH2Dataset(BaseDataset):\n",
    "    \"\"\"\n",
    "    Concrete implementation of the MPEG-7 Dataset\n",
    "    \"\"\"\n",
    "\n",
    "    def __init__(self, base_path):\n",
    "        BaseDataset.__init__(self, base_path)\n",
    "\n",
    "    def load_dataset(self, dataset_path):\n",
    "        image_list = []\n",
    "        images_base_folder = join(dataset_path, 'PH2 Dataset images')\n",
    "        image_dirs = [f for f in listdir(images_base_folder) if not f.startswith('.')]\n",
    "\n",
    "        #Reads the info in the XLSX file\n",
    "        df = pd.read_excel(join(dataset_path, 'PH2_dataset.xlsx'))\n",
    "        classes = []\n",
    "        for i in range(len(image_dirs)):\n",
    "\n",
    "            cell_common_nevus = df.iloc[i + 11, 2]\n",
    "            cell_atypical_nevus = df.iloc[i + 11, 3]\n",
    "            cell_melanoma = df.iloc[i + 11, 4]\n",
    "\n",
    "            if cell_common_nevus == 'X':\n",
    "                image_class = 1\n",
    "            elif cell_atypical_nevus == 'X':\n",
    "                image_class = 2\n",
    "            else:\n",
    "                image_class = 3\n",
    "\n",
    "            classes.append({\n",
    "                'name': df.iloc[i + 11, 0],\n",
    "                'class': image_class\n",
    "            })\n",
    "\n",
    "        for image_folder_name in image_dirs:\n",
    "            filename = join(images_base_folder, image_folder_name, image_folder_name + '_Dermoscopic_Image',\n",
    "                            image_folder_name + '.bmp')\n",
    "            ground_truth_filename = join(images_base_folder, image_folder_name, image_folder_name + '_lesion',\n",
    "                                         image_folder_name + '_lesion.bmp')\n",
    "            our_filename = join(\"our_segmentation/\" + image_folder_name + \"_our.png\")\n",
    "            #image class\n",
    "            results = list(filter(lambda all_classes: all_classes['name'] == image_folder_name, classes))\n",
    "            if len(results) > 0:\n",
    "                c = results[0]['class']\n",
    "            else:\n",
    "                c = 1\n",
    "\n",
    "            image_list.append({\n",
    "                'image_filename': filename,\n",
    "                'imageName': image_folder_name,\n",
    "                'ground_truth_filename': ground_truth_filename,\n",
    "                'our_filename':our_filename,\n",
    "                'class': c,\n",
    "                'labels': ['', ''] #TODO: llenar esto\n",
    "            })\n",
    "\n",
    "        return image_list\n",
    "\n",
    "    def read_data(self, filename):\n",
    "        return imread(filename)\n",
    "\n",
    "    def has_class(self):\n",
    "        return True\n",
    "\n",
    "    def has_labels(self):\n",
    "        return True\n",
    "\n",
    "    def has_ground_truth(self):\n",
    "        return True"
   ]
  },
  {
   "cell_type": "code",
   "execution_count": 2,
   "metadata": {},
   "outputs": [],
   "source": [
    "def rgb_to_hsv(im):\n",
    "    return cv2.cvtColor(im, cv2.COLOR_RGB2HSV)\n",
    "\n",
    "def rgb_to_lab(im):\n",
    "    return cv2.cvtColor(im, cv2.COLOR_RGB2LAB)"
   ]
  },
  {
   "cell_type": "code",
   "execution_count": 3,
   "metadata": {},
   "outputs": [],
   "source": [
    "dataset = PH2Dataset(\"PH2Dataset\")"
   ]
  },
  {
   "cell_type": "code",
   "execution_count": 4,
   "metadata": {},
   "outputs": [],
   "source": [
    "images = dataset.load_dataset(\"PH2Dataset\")"
   ]
  },
  {
   "cell_type": "markdown",
   "metadata": {},
   "source": [
    "# LECTURA DE LA IMAGEN"
   ]
  },
  {
   "cell_type": "code",
   "execution_count": 89,
   "metadata": {},
   "outputs": [],
   "source": [
    "idd = 1\n",
    "image1 = dataset.read_data(images[idd][\"image_filename\"])\n",
    "image1_mask = dataset.read_data(images[idd][\"our_filename\"])[:,:,0]\n",
    "mask_3c = np.zeros((image1.shape), np.uint8)\n",
    "mask_3c[:,:,0] = image1_mask\n",
    "mask_3c[:,:,1] = image1_mask\n",
    "mask_3c[:,:,2] = image1_mask\n",
    "image1 = image1 * (mask_3c > 0)"
   ]
  },
  {
   "cell_type": "code",
   "execution_count": 90,
   "metadata": {},
   "outputs": [
    {
     "data": {
      "text/plain": [
       "1"
      ]
     },
     "execution_count": 90,
     "metadata": {},
     "output_type": "execute_result"
    }
   ],
   "source": [
    "images[idd][\"class\"]"
   ]
  },
  {
   "cell_type": "markdown",
   "metadata": {},
   "source": [
    "# EXPERIMENTOS PARA EL CALCULO DE LA ASIMETRIA"
   ]
  },
  {
   "cell_type": "code",
   "execution_count": 91,
   "metadata": {},
   "outputs": [
    {
     "data": {
      "image/png": "[encoded data removed]",
      "text/plain": [
       "<Figure size 432x288 with 1 Axes>"
      ]
     },
     "metadata": {},
     "output_type": "display_data"
    }
   ],
   "source": [
    "mascara = image1_mask\n",
    "contours = measure.find_contours(mascara, 0.8)\n",
    "fig, ax = plt.subplots()\n",
    "ax.imshow(mascara, cmap=plt.cm.gray)\n",
    "\n",
    "for n, contour in enumerate(contours):\n",
    "    ax.plot(contour[:, 1], contour[:, 0], linewidth=2)\n",
    "\n",
    "ax.axis('image')\n",
    "ax.set_xticks([])\n",
    "ax.set_yticks([])\n",
    "plt.show()"
   ]
  },
  {
   "cell_type": "markdown",
   "metadata": {},
   "source": [
    "# OBTENIENDO EL EJE MAYOR Y EJE MENOR Y USÁNDOLOS PARA CORREGIR LA ORIENTACIÓN DEL OBJETO"
   ]
  },
  {
   "cell_type": "code",
   "execution_count": 66,
   "metadata": {},
   "outputs": [
    {
     "name": "stdout",
     "output_type": "stream",
     "text": [
      "Longitud del eje mayor: 299.51791817227155\n",
      "Longitud del eje menor: 263.81548147770764\n"
     ]
    },
    {
     "data": {
      "text/plain": [
       "[<matplotlib.lines.Line2D at 0x28d5f972630>]"
      ]
     },
     "execution_count": 66,
     "metadata": {},
     "output_type": "execute_result"
    },
    {
     "data": {
      "image/png": "[encoded data removed]",
      "text/plain": [
       "<Figure size 432x288 with 1 Axes>"
      ]
     },
     "metadata": {
      "needs_background": "light"
     },
     "output_type": "display_data"
    }
   ],
   "source": [
    "label_img = label(mascara)\n",
    "props = regionprops(label_img)[0]\n",
    "props.orientation\n",
    "fig, ax = plt.subplots()\n",
    "ax.imshow(mascara, cmap=plt.cm.gray)\n",
    "print(\"Longitud del eje mayor:\", props.major_axis_length)\n",
    "print(\"Longitud del eje menor:\",props.minor_axis_length)\n",
    "y0, x0 = props.centroid\n",
    "orientation = props.orientation\n",
    "x1 = x0 + math.cos(orientation) * 0.5 * props.major_axis_length\n",
    "y1 = y0 - math.sin(orientation) * 0.5 * props.major_axis_length\n",
    "x2 = x0 - math.sin(orientation) * 0.5 * props.minor_axis_length\n",
    "y2 = y0 - math.cos(orientation) * 0.5 * props.minor_axis_length\n",
    "\n",
    "ax.plot((x0, x1), (y0, y1), '-r', linewidth=2.5)\n",
    "ax.plot((x0, x2), (y0, y2), '-r', linewidth=2.5)\n",
    "ax.plot(x0, y0, '.g', markersize=15)\n",
    "\n",
    "minr, minc, maxr, maxc = props.bbox\n",
    "bx = (minc, maxc, maxc, minc, minc)\n",
    "by = (minr, minr, maxr, maxr, minr)\n",
    "ax.plot(bx, by, '-b', linewidth=2.5)"
   ]
  },
  {
   "cell_type": "code",
   "execution_count": 92,
   "metadata": {},
   "outputs": [
    {
     "data": {
      "text/plain": [
       "[<matplotlib.lines.Line2D at 0x28d5f231ac8>]"
      ]
     },
     "execution_count": 92,
     "metadata": {},
     "output_type": "execute_result"
    },
    {
     "data": {
      "image/png": "[encoded data removed]",
      "text/plain": [
       "<Figure size 432x288 with 1 Axes>"
      ]
     },
     "metadata": {
      "needs_background": "light"
     },
     "output_type": "display_data"
    }
   ],
   "source": [
    "grados = props.orientation*180/math.pi\n",
    "grados = grados if grados > 0 else 360-abs(grados)\n",
    "rotate_img = rotate(mascara, (270-grados)) > 128\n",
    "label_img = label(rotate_img)\n",
    "props = regionprops(label_img)[0]\n",
    "props.orientation\n",
    "fig, ax = plt.subplots()\n",
    "ax.imshow(rotate_img, cmap=plt.cm.gray)\n",
    "y0, x0 = props.centroid\n",
    "orientation = props.orientation\n",
    "x1 = x0 + math.cos(orientation) * 0.5 * props.major_axis_length\n",
    "y1 = y0 - math.sin(orientation) * 0.5 * props.major_axis_length\n",
    "x2 = x0 - math.sin(orientation) * 0.5 * props.minor_axis_length\n",
    "y2 = y0 - math.cos(orientation) * 0.5 * props.minor_axis_length\n",
    "\n",
    "ax.plot((x0, x1), (y0, y1), '-r', linewidth=2.5)\n",
    "ax.plot((x0, x2), (y0, y2), '-r', linewidth=2.5)\n",
    "ax.plot(x0, y0, '.g', markersize=15)\n",
    "\n",
    "minr, minc, maxr, maxc = props.bbox\n",
    "bx = (minc, maxc, maxc, minc, minc)\n",
    "by = (minr, minr, maxr, maxr, minr)\n",
    "ax.plot(bx, by, '-b', linewidth=2.5)"
   ]
  },
  {
   "cell_type": "code",
   "execution_count": 93,
   "metadata": {},
   "outputs": [
    {
     "data": {
      "image/png": "[encoded data removed]",
      "text/plain": [
       "<Figure size 432x288 with 1 Axes>"
      ]
     },
     "metadata": {
      "needs_background": "light"
     },
     "output_type": "display_data"
    }
   ],
   "source": [
    "original = rotate_img\n",
    "flipped = np.fliplr(original)\n",
    "contours = measure.find_contours(original, 0.8)\n",
    "contours2 = measure.find_contours(flipped, 0.8)\n",
    "fig, ax = plt.subplots()\n",
    "ax.imshow(original, cmap=plt.cm.gray)\n",
    "\n",
    "for n, contour in enumerate(contours):\n",
    "    ax.plot(contour[:, 1], contour[:, 0], linewidth=2)\n",
    "for n, contour in enumerate(contours2):\n",
    "    ax.plot(contour[:, 1], contour[:, 0], linewidth=2)"
   ]
  },
  {
   "cell_type": "markdown",
   "metadata": {},
   "source": [
    "# EXPERIMENTOS CON FOURIER"
   ]
  },
  {
   "cell_type": "code",
   "execution_count": 69,
   "metadata": {},
   "outputs": [
    {
     "data": {
      "text/plain": [
       "[<matplotlib.lines.Line2D at 0x28d5f28f780>]"
      ]
     },
     "execution_count": 69,
     "metadata": {},
     "output_type": "execute_result"
    },
    {
     "data": {
      "image/png": "[encoded data removed]",
      "text/plain": [
       "<Figure size 432x288 with 1 Axes>"
      ]
     },
     "metadata": {
      "needs_background": "light"
     },
     "output_type": "display_data"
    }
   ],
   "source": [
    "def l2_norm(v, u):\n",
    "    return np.linalg.norm(v - u)\n",
    "\n",
    "mascara = image1_mask\n",
    "contours = measure.find_contours(mascara, 0.8)\n",
    "label_img = label(mascara)\n",
    "props = regionprops(label_img)[0]\n",
    "centroid = props.centroid\n",
    "distances = []\n",
    "for point in contours[0]:\n",
    "    distances.append(l2_norm(point,centroid))\n",
    "\n",
    "distances = np.array(distances)\n",
    "plt.plot(distances)"
   ]
  },
  {
   "cell_type": "code",
   "execution_count": 36,
   "metadata": {},
   "outputs": [
    {
     "data": {
      "text/plain": [
       "[<matplotlib.lines.Line2D at 0x28d5f418cf8>]"
      ]
     },
     "execution_count": 36,
     "metadata": {},
     "output_type": "execute_result"
    },
    {
     "data": {
      "image/png": "[encoded data removed]",
      "text/plain": [
       "<Figure size 432x288 with 1 Axes>"
      ]
     },
     "metadata": {
      "needs_background": "light"
     },
     "output_type": "display_data"
    }
   ],
   "source": [
    "plt.plot(fourier_distances)"
   ]
  },
  {
   "cell_type": "code",
   "execution_count": 70,
   "metadata": {},
   "outputs": [
    {
     "data": {
      "text/plain": [
       "120.87336423844924"
      ]
     },
     "execution_count": 70,
     "metadata": {},
     "output_type": "execute_result"
    },
    {
     "data": {
      "image/png": "[encoded data removed]",
      "text/plain": [
       "<Figure size 432x288 with 1 Axes>"
      ]
     },
     "metadata": {
      "needs_background": "light"
     },
     "output_type": "display_data"
    }
   ],
   "source": [
    "fourier_distances = np.fft.fft(distances)\n",
    "n = len(fourier_distances)\n",
    "i = 4\n",
    "fourier_distances[i:-i] = 0\n",
    "fourier_inverse = np.fft.ifft(fourier_distances)\n",
    "plt.plot(distances)\n",
    "plt.plot(fourier_inverse)\n",
    "res = l2_norm(distances, fourier_inverse.real)\n",
    "res"
   ]
  },
  {
   "cell_type": "code",
   "execution_count": 20,
   "metadata": {},
   "outputs": [
    {
     "data": {
      "text/plain": [
       "13.610814315489279"
      ]
     },
     "execution_count": 20,
     "metadata": {},
     "output_type": "execute_result"
    }
   ],
   "source": [
    "\n",
    "fourier_reconstruction(mascara, 200)\n"
   ]
  },
  {
   "cell_type": "markdown",
   "metadata": {},
   "source": [
    "# FUNCIONES PARA EXTRACCIÓN DE CARACTERISTICAS"
   ]
  },
  {
   "cell_type": "code",
   "execution_count": 94,
   "metadata": {},
   "outputs": [],
   "source": [
    "def get_lab_hsv_features(im, mask, features):\n",
    "    #La imagen de entrada debe estar en el espacio RGB\n",
    "    #Extraer el tamaño de la imagen de entrada y convertirla a LAB y HSV\n",
    "    shape = np.shape(im)\n",
    "    im_lab = rgb_to_lab(im)\n",
    "    im_hsv = rgb_to_hsv(im)\n",
    "    \n",
    "    #Definir los canales  por separado\n",
    "    s = im_hsv[:,:,1]\n",
    "    v = im_hsv[:,:,2]\n",
    "    \n",
    "    a = im_lab[:,:,1]\n",
    "    b = im_lab[:,:,2]\n",
    "    #Definir listas vacías de canales h,s,v\n",
    "    a_1 = []\n",
    "    b_1 = []\n",
    "    s_1 = []\n",
    "    v_1= []\n",
    "    \n",
    "    #Recorrer cada posición i,j de la matriz de la imagen de entrada\n",
    "    for i in range(shape[0]):\n",
    "        for j in range(shape[1]):\n",
    "            #Condicional, si la máscara en la posición i,j es un array verdadero añadir\n",
    "            #a cada canal del nuevo HSV el píxel en esta posición\n",
    "            if((mask[i][j] == np.array([True, True, True])).all() ):\n",
    "                s_1.append(s[i][j])\n",
    "                v_1.append(v[i][j])\n",
    "                a_1.append(a[i][j])\n",
    "                b_1.append(a[i][j])\n",
    "                \n",
    "    #Utilizar features para guardar los valores de media, desviación estándar, kurtosis y sesgo\n",
    "    #de cada uno de los canales h_1, s_1, v_1\n",
    "    features['s_mean'] = np.mean(s_1)\n",
    "    features['s_std'] = np.std(s_1)\n",
    "    features['s_kurtosis'] = kurtosis(s_1)\n",
    "    features['s_skew'] = skew(s_1)\n",
    "    features['v_kurtosis'] = kurtosis(v_1)\n",
    "    features['v_skew'] = skew(v_1)\n",
    "    features['v_mean'] = np.mean(v_1)\n",
    "    features['v_std'] = np.std(v_1)\n",
    "    features['lab_a_mean'] = np.mean(a_1)\n",
    "    features['lab_a_std'] = np.std(a_1)\n",
    "    features['lab_a_kurtosis'] = kurtosis(a_1)\n",
    "    features['lab_a_skew'] = skew(a_1)\n",
    "    features['lab_b_kurtosis'] = kurtosis(b_1)\n",
    "    features['lab_b_skew'] = skew(b_1)\n",
    "    features['lab_b_mean'] = np.mean(b_1)\n",
    "    features['lab_b_std'] = np.std(b_1)\n",
    "\n",
    "    return features\n",
    "\n",
    "def get_moments_hu(props, features):\n",
    "    moments_hu = props.moments_hu\n",
    "    moments_hu = np.sign(moments_hu) * np.log(np.abs(moments_hu))\n",
    "    features['hu0'] = moments_hu[0]\n",
    "    features['hu1'] = moments_hu[1]\n",
    "    features['hu2'] = moments_hu[2]\n",
    "    features['hu3'] = moments_hu[3]\n",
    "    features['hu4'] = moments_hu[4]\n",
    "    features['hu5'] = moments_hu[5]\n",
    "    features['hu6'] = moments_hu[6]\n",
    "    return features\n",
    "\n",
    "def get_assimmetry(mask):\n",
    "    label_img = label(mascara)\n",
    "    props = regionprops(label_img)[0]\n",
    "    grados = props.orientation*180/math.pi\n",
    "    grados = grados if grados > 0 else 360-abs(grados)\n",
    "    original = rotate(mascara, (270-grados)) > 128\n",
    "    flipped_major = np.fliplr(original)\n",
    "    flipped_minor = np.flipud(original)\n",
    "    \n",
    "    contour_o = measure.find_contours(original, 0.8)\n",
    "    contour_f_major = measure.find_contours(flipped_major, 0.8)\n",
    "    contour_f_minor = measure.find_contours(flipped_minor, 0.8)\n",
    "    dist_haus_major_axis = hausdorff(contour_o[0], contour_f_major[0])\n",
    "    dist_haus_minor_axis = hausdorff(contour_o[0], contour_f_minor[0])\n",
    "    dist_jain_major_axis = dubuisson_jain_dissimilarity(contour_o[0], contour_f_major[0])\n",
    "    dist_jain_minor_axis = dubuisson_jain_dissimilarity(contour_o[0], contour_f_minor[0])\n",
    "    return (dist_haus_major_axis,dist_haus_minor_axis,dist_jain_major_axis,dist_jain_minor_axis)\n",
    "\n",
    "def l2_norm(v, u):\n",
    "    return np.linalg.norm(v - u)\n",
    "\n",
    "def fourier_reconstruction(mascara, i):\n",
    "    contours = measure.find_contours(mascara, 0.8)\n",
    "    label_img = label(mascara)\n",
    "    props = regionprops(label_img)[0]\n",
    "    centroid = props.centroid\n",
    "    distances = []\n",
    "    for point in contours[0]:\n",
    "        distances.append(l2_norm(point,centroid))\n",
    "    distances = np.array(distances)   \n",
    "    fourier_distances = np.fft.fft(distances)\n",
    "    n = len(fourier_distances)\n",
    "    fourier_distances[i:-i] = 0\n",
    "    fourier_inverse = np.fft.ifft(fourier_distances)\n",
    "    #plt.plot(distances)\n",
    "    #plt.plot(fourier_inverse)\n",
    "    res = l2_norm(distances, fourier_inverse.real)/len(distances)\n",
    "    return res\n",
    "\n",
    "\n",
    "def get_features_perimeter(mask, features):\n",
    "    contours = measure.find_contours(mask, 0.8)\n",
    "    features['perimeter'] = contours[0].shape[0]\n",
    "    (dist_haus_major_axis,dist_haus_minor_axis,dist_jain_major_axis,dist_jain_minor_axis) = get_assimmetry(mask)\n",
    "    features['assimmetry_haus_major'] = dist_haus_major_axis\n",
    "    features['assimmetry_haus_minor'] = dist_haus_minor_axis\n",
    "    features['assimmetry_jain_major'] = dist_jain_major_axis\n",
    "    features['assimmetry_jain_minor'] = dist_jain_minor_axis\n",
    "    for i in range(1,21):\n",
    "        features['fourier_reconstruction_{}'.format(i)] = fourier_reconstruction(mask, i)\n",
    "    #features['fourier_reconstruction_1'] = fourier_reconstruction(mask, 1)\n",
    "    #features['fourier_reconstruction_2'] = fourier_reconstruction(mask, 2)\n",
    "    #features['fourier_reconstruction_3'] = fourier_reconstruction(mask, 4)\n",
    "    #features['fourier_reconstruction_4'] = fourier_reconstruction(mask, 8)\n",
    "    #features['fourier_reconstruction_5'] = fourier_reconstruction(mask, 16)\n",
    "    return features\n",
    "\n",
    "\n",
    "\n",
    "def get_features_area(props, features):\n",
    "    features['area'] = props.area\n",
    "    features['convex_area'] = props.convex_area\n",
    "    features['area_to_convex_ratio'] = props.area/props.convex_area\n",
    "    features['compacity'] = props.perimeter**2/props.area\n",
    "    features['roundness'] = 4*math.pi*props.area /(props.perimeter**2)\n",
    "    features['area_perimeter_ratio'] = props.area / props.perimeter\n",
    "    features['elongation'] = props.major_axis_length/props.minor_axis_length\n",
    "    features['major_axis_length'] = props.major_axis_length\n",
    "    features['minor_axis_length'] = props.minor_axis_length\n",
    "    features['solidity1'] = props.area/props.convex_area\n",
    "    #features['solidity2'] = props.area / props.filled_area\n",
    "    return features\n",
    "\n",
    "#Definir función para extraer características del espacio RGB\n",
    "def get_rgb_features(im,mask, features):\n",
    "    #Crear una matriz del mismo tamaño de la imagen de entrada, leer los canales R,G,B y \n",
    "    #crear listas vacías donde se aplica la máscara\n",
    "    shape = np.shape(im)\n",
    "    r = im[:,:,0]\n",
    "    g = im[:,:,1]\n",
    "    b = im[:,:,2]\n",
    "    r_1 = []\n",
    "    g_1 = []\n",
    "    b_1 = []\n",
    "    #Recorrer las posiciones i,j de la matriz de la imagen de entrada\n",
    "    for i in range(shape[0]):\n",
    "        for j in range(shape[1]):\n",
    "            #Condicional, si la máscara en la posición i,j es un array de True, añadir\n",
    "            #a cada canal del nuevo espacio RGB el píxel en esta posición\n",
    "            if( (mask[i][j] == np.array([True, True, True])).all() ): \n",
    "                r_1.append(r[i][j])\n",
    "                g_1.append(g[i][j])\n",
    "                b_1.append(b[i][j])\n",
    "    #Utilizar features para guardar los valores de media, desv.estandar, kurtosis y sesgo\n",
    "    #de los canales r_1,g_1,b_1\n",
    "    features['r_mean'] = np.mean(r_1)\n",
    "    features['r_std'] = np.std(r_1)\n",
    "    features['r_kurtosis'] = kurtosis(r_1)\n",
    "    features['r_skew'] = skew(r_1)\n",
    "    features['g_mean'] = np.mean(g_1)\n",
    "    features['g_std'] = np.std(g_1)\n",
    "    features['b_kurtosis'] = kurtosis(b_1)\n",
    "    features['b_skew'] = skew(b_1)\n",
    "    features['b_mean'] = np.mean(b_1)\n",
    "    features['b_std'] = np.std(b_1)\n",
    "    features['g_kurtosis'] = kurtosis(g_1)\n",
    "    features['g_skew'] = skew(g_1)\n",
    "    return features"
   ]
  },
  {
   "cell_type": "code",
   "execution_count": 95,
   "metadata": {},
   "outputs": [],
   "source": [
    "def features_pipeline(img, mask):\n",
    "    #Crear el diccionario para guardar las características\n",
    "    features = {}\n",
    "    label_img = label(mask)\n",
    "    props = regionprops(label_img)[0]\n",
    "    mask_3c = np.zeros((img.shape), np.uint8)\n",
    "    mask_3c[:,:,0] = mask\n",
    "    mask_3c[:,:,1] = mask\n",
    "    mask_3c[:,:,2] = mask\n",
    "    features = get_moments_hu(props, features)\n",
    "    features = get_features_area(props, features)\n",
    "    features = get_rgb_features(img,mask_3c,features)\n",
    "    features = get_lab_hsv_features(img,mask_3c,features)\n",
    "    features = get_features_perimeter(mask, features)\n",
    "    return features"
   ]
  },
  {
   "cell_type": "markdown",
   "metadata": {},
   "source": [
    "# EXTRACCION DE CARACTERISTICAS CON UNA SOLA IMAGEN"
   ]
  },
  {
   "cell_type": "code",
   "execution_count": 96,
   "metadata": {},
   "outputs": [
    {
     "data": {
      "text/plain": [
       "{'hu0': -1.7476232540189296,\n",
       " 'hu1': -6.43963346070441,\n",
       " 'hu2': -9.036316215301401,\n",
       " 'hu3': -10.424018144721282,\n",
       " 'hu4': -20.17059653331824,\n",
       " 'hu5': -13.772047363771915,\n",
       " 'hu6': 21.870690258594102,\n",
       " 'area': 56379,\n",
       " 'convex_area': 68549,\n",
       " 'area_to_convex_ratio': 0.8224627638623466,\n",
       " 'compacity': 39.30348697347355,\n",
       " 'roundness': 0.31972660906245765,\n",
       " 'area_perimeter_ratio': 37.87417164618422,\n",
       " 'elongation': 1.2631125511597396,\n",
       " 'major_axis_length': 310.7867875639743,\n",
       " 'minor_axis_length': 246.04837255288317,\n",
       " 'solidity1': 0.8224627638623466,\n",
       " 'r_mean': 146.92756168076767,\n",
       " 'r_std': 32.27484395161401,\n",
       " 'r_kurtosis': 0.6207278254671498,\n",
       " 'r_skew': 0.8184728495700655,\n",
       " 'g_mean': 105.82711647954025,\n",
       " 'g_std': 30.25248579410701,\n",
       " 'b_kurtosis': 1.9378840154876373,\n",
       " 'b_skew': 1.1028303408457842,\n",
       " 'b_mean': 101.57751999858104,\n",
       " 'b_std': 29.556371524482206,\n",
       " 'g_kurtosis': 1.63522069944245,\n",
       " 'g_skew': 1.05783443721367,\n",
       " 's_mean': 81.43567640433494,\n",
       " 's_std': 15.625904244491927,\n",
       " 's_kurtosis': 9.14544496198699,\n",
       " 's_skew': 1.1141604752891865,\n",
       " 'v_kurtosis': 0.6226210089608863,\n",
       " 'v_skew': 0.8189248660984972,\n",
       " 'v_mean': 146.9282711647954,\n",
       " 'v_std': 32.2771431824647,\n",
       " 'lab_a_mean': 143.90178967345997,\n",
       " 'lab_a_std': 2.2439317272402715,\n",
       " 'lab_a_kurtosis': 3.1397160226961534,\n",
       " 'lab_a_skew': -0.37554414463266483,\n",
       " 'lab_b_kurtosis': 3.1397160226961534,\n",
       " 'lab_b_skew': -0.37554414463266483,\n",
       " 'lab_b_mean': 143.90178967345997,\n",
       " 'lab_b_std': 2.2439317272402715,\n",
       " 'perimeter': 1831,\n",
       " 'assimmetry_haus_major': 4239.673525166758,\n",
       " 'assimmetry_haus_minor': 1654.5590832605544,\n",
       " 'assimmetry_jain_major': 5808.954483587889,\n",
       " 'assimmetry_jain_minor': 1522.2429003766201,\n",
       " 'fourier_reconstruction_1': 0.4735359755229946,\n",
       " 'fourier_reconstruction_2': 0.4062861759854797,\n",
       " 'fourier_reconstruction_3': 0.37621567407458206,\n",
       " 'fourier_reconstruction_4': 0.3061224196527811,\n",
       " 'fourier_reconstruction_5': 0.2353979164748357,\n",
       " 'fourier_reconstruction_6': 0.18979631327503207,\n",
       " 'fourier_reconstruction_7': 0.17833368017409057,\n",
       " 'fourier_reconstruction_8': 0.1595624648863931,\n",
       " 'fourier_reconstruction_9': 0.14547674317874354,\n",
       " 'fourier_reconstruction_10': 0.14240844266879552,\n",
       " 'fourier_reconstruction_11': 0.13910488289386566,\n",
       " 'fourier_reconstruction_12': 0.12859751524285815,\n",
       " 'fourier_reconstruction_13': 0.12292355059676315,\n",
       " 'fourier_reconstruction_14': 0.09280951144964956,\n",
       " 'fourier_reconstruction_15': 0.07481867953614353,\n",
       " 'fourier_reconstruction_16': 0.06371701667405522,\n",
       " 'fourier_reconstruction_17': 0.05776492365419489,\n",
       " 'fourier_reconstruction_18': 0.05526245023908074,\n",
       " 'fourier_reconstruction_19': 0.05364093839912226,\n",
       " 'fourier_reconstruction_20': 0.053050626467603265}"
      ]
     },
     "execution_count": 96,
     "metadata": {},
     "output_type": "execute_result"
    }
   ],
   "source": [
    "features_base = features_pipeline(image1, image1_mask > 0)\n",
    "features_base"
   ]
  },
  {
   "cell_type": "markdown",
   "metadata": {},
   "source": [
    "# LOOP PARA SACAR LAS CARACTERISTICAS PARA TODAS LAS IMÁGENES Y ARMAR EL PANDAS."
   ]
  },
  {
   "cell_type": "code",
   "execution_count": null,
   "metadata": {},
   "outputs": [],
   "source": [
    "#features = get_features(image1[0])\n",
    "columns = list(features_base.keys())\n",
    "columns.append('class')\n",
    "df = pd.DataFrame(columns=columns)\n",
    "for i in range(200):\n",
    "    image = dataset.read_data(images[i][\"image_filename\"])\n",
    "    mask = dataset.read_data(images[i][\"our_filename\"])\n",
    "    mask_3c = np.zeros((image.shape), np.uint8)\n",
    "    mask_3c[:,:,0] = mask\n",
    "    mask_3c[:,:,1] = mask\n",
    "    mask_3c[:,:,2] = mask\n",
    "    image = image * (mask_3c > 0)\n",
    "    features = features_pipeline(image, mask > 0)\n",
    "    df.loc[i] = [features[feature] for feature in features_base.keys()]+[images[i][\"class\"]]"
   ]
  },
  {
   "cell_type": "code",
   "execution_count": 155,
   "metadata": {},
   "outputs": [
    {
     "data": {
      "text/html": [
       "<div>\n",
       "<style scoped>\n",
       "    .dataframe tbody tr th:only-of-type {\n",
       "        vertical-align: middle;\n",
       "    }\n",
       "\n",
       "    .dataframe tbody tr th {\n",
       "        vertical-align: top;\n",
       "    }\n",
       "\n",
       "    .dataframe thead th {\n",
       "        text-align: right;\n",
       "    }\n",
       "</style>\n",
       "<table border=\"1\" class=\"dataframe\">\n",
       "  <thead>\n",
       "    <tr style=\"text-align: right;\">\n",
       "      <th></th>\n",
       "      <th>hu0</th>\n",
       "      <th>hu1</th>\n",
       "      <th>hu2</th>\n",
       "      <th>hu3</th>\n",
       "      <th>hu4</th>\n",
       "      <th>hu5</th>\n",
       "      <th>hu6</th>\n",
       "      <th>area</th>\n",
       "      <th>convex_area</th>\n",
       "      <th>area_to_convex_ratio</th>\n",
       "      <th>...</th>\n",
       "      <th>lab_a_mean</th>\n",
       "      <th>lab_a_std</th>\n",
       "      <th>lab_a_kurtosis</th>\n",
       "      <th>lab_a_skew</th>\n",
       "      <th>lab_b_kurtosis</th>\n",
       "      <th>lab_b_skew</th>\n",
       "      <th>lab_b_mean</th>\n",
       "      <th>lab_b_std</th>\n",
       "      <th>perimeter</th>\n",
       "      <th>class</th>\n",
       "    </tr>\n",
       "  </thead>\n",
       "  <tbody>\n",
       "    <tr>\n",
       "      <th>0</th>\n",
       "      <td>-1.799133</td>\n",
       "      <td>-8.126692</td>\n",
       "      <td>-7.980671</td>\n",
       "      <td>-12.697462</td>\n",
       "      <td>-23.309982</td>\n",
       "      <td>18.612712</td>\n",
       "      <td>23.468778</td>\n",
       "      <td>120276.0</td>\n",
       "      <td>128619.0</td>\n",
       "      <td>0.935134</td>\n",
       "      <td>...</td>\n",
       "      <td>150.428988</td>\n",
       "      <td>3.780474</td>\n",
       "      <td>-0.183822</td>\n",
       "      <td>-0.159554</td>\n",
       "      <td>-0.183822</td>\n",
       "      <td>-0.159554</td>\n",
       "      <td>150.428988</td>\n",
       "      <td>3.780474</td>\n",
       "      <td>1807.0</td>\n",
       "      <td>2.0</td>\n",
       "    </tr>\n",
       "  </tbody>\n",
       "</table>\n",
       "<p>1 rows × 48 columns</p>\n",
       "</div>"
      ],
      "text/plain": [
       "        hu0       hu1       hu2        hu3        hu4        hu5        hu6  \\\n",
       "0 -1.799133 -8.126692 -7.980671 -12.697462 -23.309982  18.612712  23.468778   \n",
       "\n",
       "       area  convex_area  area_to_convex_ratio  ...  lab_a_mean  lab_a_std  \\\n",
       "0  120276.0     128619.0              0.935134  ...  150.428988   3.780474   \n",
       "\n",
       "   lab_a_kurtosis  lab_a_skew  lab_b_kurtosis  lab_b_skew  lab_b_mean  \\\n",
       "0       -0.183822   -0.159554       -0.183822   -0.159554  150.428988   \n",
       "\n",
       "   lab_b_std  perimeter  class  \n",
       "0   3.780474     1807.0    2.0  \n",
       "\n",
       "[1 rows x 48 columns]"
      ]
     },
     "execution_count": 155,
     "metadata": {},
     "output_type": "execute_result"
    }
   ],
   "source": [
    "df.tail()"
   ]
  }
 ],
 "metadata": {
  "kernelspec": {
   "display_name": "Python 3",
   "language": "python",
   "name": "python3"
  },
  "language_info": {
   "codemirror_mode": {
    "name": "ipython",
    "version": 3
   },
   "file_extension": ".py",
   "mimetype": "text/x-python",
   "name": "python",
   "nbconvert_exporter": "python",
   "pygments_lexer": "ipython3",
   "version": "3.7.3"
  }
 },
 "nbformat": 4,
 "nbformat_minor": 2
}
